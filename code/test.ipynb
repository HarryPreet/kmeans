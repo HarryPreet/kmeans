{
 "cells": [
  {
   "cell_type": "code",
   "execution_count": 1,
   "metadata": {},
   "outputs": [
    {
     "name": "stdout",
     "output_type": "stream",
     "text": [
      "(4532, 23433)\n",
      "(4532, 100)\n"
     ]
    }
   ],
   "source": [
    "from main import *\n",
    "import matplotlib.pyplot as plt\n",
    "data_path = '../data/data.csv'\n",
    "heart = read_data(data_path)\n",
    "heart = preprocess_data(heart)\n",
    "print(heart.X.shape)\n",
    "X = PCA(heart.X, 100)\n",
    "print(X.shape)\n",
    "\n"
   ]
  },
  {
   "cell_type": "code",
   "execution_count": 2,
   "metadata": {},
   "outputs": [
    {
     "name": "stdout",
     "output_type": "stream",
     "text": [
      "icr\n",
      "0 5\n",
      "fit1\n",
      "1 5\n",
      "fit1\n",
      "2 5\n",
      "fit1\n",
      "3 5\n",
      "fit1\n",
      "4 5\n",
      "fit1\n"
     ]
    },
    {
     "data": {
      "text/plain": [
       "array([0., 0., 0., ..., 0., 0., 0.])"
      ]
     },
     "execution_count": 2,
     "metadata": {},
     "output_type": "execute_result"
    }
   ],
   "source": [
    "import anndata\n",
    "import scanpy as sc\n",
    "import numpy as np\n",
    "from sklearn.decomposition import PCA as pca\n",
    "import argparse\n",
    "from kmeans import KMeans\n",
    "X = np.loadtxt('test1.txt', dtype=int)\n",
    "from kmeans import *\n",
    "km = KMeans(n_clusters=2)\n",
    "km.fit(X)"
   ]
  }
 ],
 "metadata": {
  "interpreter": {
   "hash": "b89b5cfaba6639976dc87ff2fec6d58faec662063367e2c229c520fe71072417"
  },
  "kernelspec": {
   "display_name": "Python 3.10.2 64-bit",
   "language": "python",
   "name": "python3"
  },
  "language_info": {
   "codemirror_mode": {
    "name": "ipython",
    "version": 3
   },
   "file_extension": ".py",
   "mimetype": "text/x-python",
   "name": "python",
   "nbconvert_exporter": "python",
   "pygments_lexer": "ipython3",
   "version": "3.10.2"
  },
  "orig_nbformat": 4
 },
 "nbformat": 4,
 "nbformat_minor": 2
}
